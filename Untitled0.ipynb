{
  "nbformat": 4,
  "nbformat_minor": 0,
  "metadata": {
    "colab": {
      "name": "Untitled0.ipynb",
      "provenance": [],
      "collapsed_sections": [],
      "authorship_tag": "ABX9TyMXF9I3bWs4vFO/jd0llYkQ",
      "include_colab_link": true
    },
    "kernelspec": {
      "name": "python3",
      "display_name": "Python 3"
    },
    "language_info": {
      "name": "python"
    }
  },
  "cells": [
    {
      "cell_type": "markdown",
      "metadata": {
        "id": "view-in-github",
        "colab_type": "text"
      },
      "source": [
        "<a href=\"https://colab.research.google.com/github/hunthit/cloudflare/blob/main/Untitled0.ipynb\" target=\"_parent\"><img src=\"https://colab.research.google.com/assets/colab-badge.svg\" alt=\"Open In Colab\"/></a>"
      ]
    },
    {
      "cell_type": "code",
      "metadata": {
        "id": "tuz9NrgmOaJn"
      },
      "source": [
        "import urllib.request,json,datetime,random,string,time,os,sys\n",
        "os.system('title ' + window_title if os.name == 'nt' else 'PS1=\"\\[\\e]0;1.1.1.1\\a\\]\"; echo $PS1');os.system('cls' if os.name == 'nt' else 'clear')\n",
        "print('   ________       _____     __________ ')\n",
        "print('  |   ___  \\     /  _  \\   |___    ___|')\n",
        "print(' _|  |_  \\  \\   /  / \\  \\      |  |    ')\n",
        "print('|_    _|  |  | |  |___|  |     |  |    ')\n",
        "print('  |  |___/  /  |   ___   |     |  |    ')\n",
        "print('  |________/   |__|   |__|     |__|    ')\n",
        "referrer  = input(\"[#] nhập ID WAP+(1.1.1.1):\")\n",
        "def progressBar():\n",
        "\tanimation = [\"[□□□□□□□□□□]\",\"[■□□□□□□□□□]\",\"[■■□□□□□□□□]\", \"[■■■□□□□□□□]\", \"[■■■■□□□□□□]\", \"[■■■■■□□□□□]\", \"[■■■■■■□□□□]\", \"[■■■■■■■□□□]\", \"[■■■■■■■■□□]\", \"[■■■■■■■■■□]\"];progress_anim = 0;save_anim     = animation[progress_anim % len(animation)];percent       = 0\n",
        "\twhile True:\n",
        "\t\tfor i in range(10):\n",
        "\t\t\tpercent += 1;sys.stdout.write(f\"\\rĐang chờ phản hồi từ máy chủ...  \" + save_anim + f\" {percent}%\");sys.stdout.flush();time.sleep(0.075)\n",
        "\t\tprogress_anim += 1\n",
        "\t\tsave_anim = animation[progress_anim % len(animation)]\n",
        "\t\tif percent == 100:sys.stdout.write(\"\\rĐã hoàn thành [■■■■■■■■■■] 100%\");break\n",
        "def genString(stringLength):\n",
        "\ttry:letters = string.ascii_letters + string.digits;return ''.join(random.choice(letters) for i in range(stringLength))\n",
        "\texcept Exception as error:print(error)\t\t    \n",
        "def digitString(stringLength):\n",
        "\ttry:digit = string.digits;return ''.join((random.choice(digit) for i in range(stringLength)))    \n",
        "\texcept Exception as error:print(error)\t\n",
        "url = f'https://api.cloudflareclient.com/v0a{digitString(3)}/reg'\n",
        "def run():\n",
        "\ttry:install_id = genString(22);body = {\"key\": \"{}=\".format(genString(43)),\"install_id\": install_id,\"fcm_token\": \"{}:APA91b{}\".format(install_id, genString(134)),\"referrer\": referrer,\"warp_enabled\": False,\"tos\": datetime.datetime.now().isoformat()[:-3] + \"+02:00\",\"type\": \"Android\",\"locale\": \"es_ES\"};data = json.dumps(body).encode('utf8');headers = {'Content-Type': 'application/json; charset=UTF-8','Host': 'api.cloudflareclient.com','Connection': 'Keep-Alive','Accept-Encoding': 'gzip','User-Agent': 'okhttp/3.12.1'};req = urllib.request.Request(url, data, headers);response = urllib.request.urlopen(req);status_code = response.getcode();return status_code\n",
        "\texcept Exception as error:print(\"\\n\"+str(error))\n",
        "while True:\n",
        "\tos.system('cls' if os.name == 'nt' else 'clear');sys.stdout.write(\"\\r[+] Đang gửi yêu cầu...   [□□□□□□□□□□] 0%\");sys.stdout.flush();result = run()\n",
        "\tif result == 200:\n",
        "\t\tprogressBar();print(f\"\\nBuf cho id: {referrer}\\nĐã thêm vào id của bạn {g}GB.\")\n",
        "\t\tfor i in range(11,0,-1):sys.stdout.write(f\"\\rLệnh mới sẽ đựơc gửi đi sau {i}S .\");sys.stdout.flush();time.sleep(1)\n",
        "\telse:\n",
        "\t\tprint(\"Lỗi kết nối máy chủ.\")\n",
        "\t\tfor i in range(10,0,-1):sys.stdout.write(f\"\\rĐang thử lại sau {i}S...\");sys.stdout.flush();time.sleep(1)"
      ],
      "execution_count": null,
      "outputs": []
    },
    {
      "cell_type": "code",
      "metadata": {
        "id": "VkDVESTKOtOp"
      },
      "source": [
        ""
      ],
      "execution_count": null,
      "outputs": []
    }
  ]
}